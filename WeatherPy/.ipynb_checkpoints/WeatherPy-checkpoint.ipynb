{
 "cells": [
  {
   "cell_type": "markdown",
   "metadata": {},
   "source": [
    "# WeatherPy"
   ]
  },
  {
   "cell_type": "code",
   "execution_count": 3,
   "metadata": {
    "scrolled": true
   },
   "outputs": [],
   "source": [
    "# Dependencies and Setup\n",
    "import matplotlib.pyplot as plt\n",
    "import pandas as pd\n",
    "import numpy as np\n",
    "import requests\n",
    "import time\n",
    "from scipy.stats import linregress\n",
    "\n",
    "# Import API key\n",
    "from api_keys import weather_api_key\n",
    "\n",
    "# Incorporated citipy to determine city based on latitude and longitude\n",
    "from citipy import citipy\n",
    "\n",
    "# Output File (CSV)\n",
    "output_data_file = \"output_data/cities.csv\"\n",
    "\n",
    "# Range of latitudes and longitudes\n",
    "lat_range = (-90, 90)\n",
    "lng_range = (-180, 180)"
   ]
  },
  {
   "cell_type": "markdown",
   "metadata": {},
   "source": [
    "## Generate Cities List"
   ]
  },
  {
   "cell_type": "code",
   "execution_count": 4,
   "metadata": {},
   "outputs": [
    {
     "data": {
      "text/plain": [
       "596"
      ]
     },
     "execution_count": 4,
     "metadata": {},
     "output_type": "execute_result"
    }
   ],
   "source": [
    "# List for holding lat_lngs and cities\n",
    "lat_lngs = []\n",
    "cities = []\n",
    "\n",
    "# Create a set of random lat and lng combinations\n",
    "lats = np.random.uniform(lat_range[0], lat_range[1], size=1500)\n",
    "lngs = np.random.uniform(lng_range[0], lng_range[1], size=1500)\n",
    "lat_lngs = zip(lats, lngs)\n",
    "\n",
    "# Identify nearest city for each lat, lng combination\n",
    "for lat_lng in lat_lngs:\n",
    "    city = citipy.nearest_city(lat_lng[0], lat_lng[1]).city_name\n",
    "    \n",
    "    # If the city is unique, then add it to a our cities list\n",
    "    if city not in cities:\n",
    "        cities.append(city)\n",
    "\n",
    "# Print the city count to confirm sufficient count\n",
    "len(cities)"
   ]
  },
  {
   "cell_type": "markdown",
   "metadata": {},
   "source": [
    "### Perform API Calls"
   ]
  },
  {
   "cell_type": "code",
   "execution_count": 5,
   "metadata": {},
   "outputs": [
    {
     "name": "stdout",
     "output_type": "stream",
     "text": [
      "-------------------------------\n",
      "-------------------------------\n",
      "Beginning Data Retrieval     \n",
      "-------------------------------\n",
      "-------------------------------\n",
      "Processing Record 1 of Set 1 | busselton\n",
      "Processing Record 2 of Set 1 | mareeba\n",
      "Processing Record 3 of Set 1 | tooele\n",
      "Processing Record 4 of Set 1 | arraial do cabo\n",
      "Processing Record 5 of Set 1 | kaeo\n",
      "Processing Record 6 of Set 1 | yellowknife\n",
      "Processing Record 7 of Set 1 | hobart\n",
      "Processing Record 8 of Set 1 | saskylakh\n",
      "Processing Record 9 of Set 1 | ushuaia\n",
      "Processing Record 10 of Set 1 | bambous virieux\n",
      "Processing Record 11 of Set 1 | ciudad guayana\n",
      "Processing Record 12 of Set 1 | rikitea\n",
      "Processing Record 13 of Set 1 | kiama\n",
      "Processing Record 14 of Set 1 | avera\n",
      "Processing Record 15 of Set 1 | mahebourg\n",
      "Processing Record 16 of Set 1 | bathsheba\n",
      "Processing Record 17 of Set 1 | cayenne\n",
      "Processing Record 18 of Set 1 | chicama\n",
      "Processing Record 19 of Set 1 | weihe\n",
      "Processing Record 20 of Set 1 | tutoia\n",
      "Processing Record 21 of Set 1 | soe\n",
      "Processing Record 22 of Set 1 | provideniya\n",
      "Processing Record 23 of Set 1 | awjilah\n",
      "Processing Record 24 of Set 1 | albany\n",
      "Processing Record 25 of Set 1 | vaini\n",
      "Processing Record 26 of Set 1 | pimentel\n",
      "Processing Record 27 of Set 1 | mar del plata\n",
      "Processing Record 28 of Set 1 | saint george\n",
      "Processing Record 29 of Set 1 | salalah\n",
      "Processing Record 30 of Set 1 | samalaeulu\n",
      "City not found. Skipping...\n",
      "Processing Record 31 of Set 1 | kushmurun\n",
      "Processing Record 32 of Set 1 | labuhan\n",
      "Processing Record 33 of Set 1 | mataura\n",
      "Processing Record 34 of Set 1 | puerto ayora\n",
      "Processing Record 35 of Set 1 | punta arenas\n",
      "Processing Record 36 of Set 1 | urengoy\n",
      "Processing Record 37 of Set 1 | hobyo\n",
      "Processing Record 38 of Set 1 | thompson\n",
      "Processing Record 39 of Set 1 | kodiak\n",
      "Processing Record 40 of Set 1 | carnarvon\n",
      "Processing Record 41 of Set 1 | havre-saint-pierre\n",
      "Processing Record 42 of Set 1 | taolanaro\n",
      "City not found. Skipping...\n",
      "Processing Record 43 of Set 1 | lishui\n",
      "Processing Record 44 of Set 1 | illoqqortoormiut\n",
      "City not found. Skipping...\n",
      "Processing Record 45 of Set 1 | souillac\n",
      "Processing Record 46 of Set 1 | presidencia roque saenz pena\n",
      "Processing Record 47 of Set 1 | bluff\n",
      "Processing Record 48 of Set 1 | torbay\n",
      "Processing Record 49 of Set 1 | puerto leguizamo\n",
      "Processing Record 50 of Set 1 | grand river south east\n",
      "City not found. Skipping...\n",
      "Processing Record 0 of Set 2 | east london\n",
      "Processing Record 1 of Set 2 | barentsburg\n",
      "City not found. Skipping...\n",
      "Processing Record 2 of Set 2 | coquimbo\n",
      "Processing Record 3 of Set 2 | tommot\n",
      "Processing Record 4 of Set 2 | ugoofaaru\n",
      "Processing Record 5 of Set 2 | taoudenni\n",
      "Processing Record 6 of Set 2 | avarua\n",
      "Processing Record 7 of Set 2 | krasnoselkup\n",
      "Processing Record 8 of Set 2 | vryburg\n",
      "Processing Record 9 of Set 2 | lebu\n",
      "Processing Record 10 of Set 2 | lagoa\n",
      "Processing Record 11 of Set 2 | cockburn town\n",
      "Processing Record 12 of Set 2 | ishigaki\n",
      "Processing Record 13 of Set 2 | tuktoyaktuk\n",
      "Processing Record 14 of Set 2 | aquiraz\n",
      "Processing Record 15 of Set 2 | port elizabeth\n",
      "Processing Record 16 of Set 2 | santa quiteria\n",
      "Processing Record 17 of Set 2 | lardos\n",
      "Processing Record 18 of Set 2 | dunedin\n",
      "Processing Record 19 of Set 2 | rio grande\n",
      "Processing Record 20 of Set 2 | kununurra\n",
      "Processing Record 21 of Set 2 | mbandaka\n",
      "Processing Record 22 of Set 2 | marcona\n",
      "City not found. Skipping...\n",
      "Processing Record 23 of Set 2 | loukhi\n",
      "Processing Record 24 of Set 2 | tuatapere\n",
      "Processing Record 25 of Set 2 | barrow\n",
      "Processing Record 26 of Set 2 | new norfolk\n",
      "Processing Record 27 of Set 2 | verkh-usugli\n",
      "Processing Record 28 of Set 2 | kapaa\n",
      "Processing Record 29 of Set 2 | rudbar\n",
      "Processing Record 30 of Set 2 | atuona\n",
      "Processing Record 31 of Set 2 | ilulissat\n",
      "Processing Record 32 of Set 2 | nouna\n",
      "Processing Record 33 of Set 2 | hermanus\n",
      "Processing Record 34 of Set 2 | alma\n",
      "Processing Record 35 of Set 2 | imeni poliny osipenko\n",
      "Processing Record 36 of Set 2 | luderitz\n",
      "Processing Record 37 of Set 2 | jamestown\n",
      "Processing Record 38 of Set 2 | mys shmidta\n",
      "City not found. Skipping...\n",
      "Processing Record 39 of Set 2 | tiarei\n",
      "Processing Record 40 of Set 2 | vaitupu\n",
      "City not found. Skipping...\n",
      "Processing Record 41 of Set 2 | asau\n",
      "Processing Record 42 of Set 2 | assiniboia\n",
      "Processing Record 43 of Set 2 | zhezkazgan\n",
      "Processing Record 44 of Set 2 | plettenberg bay\n",
      "Processing Record 45 of Set 2 | ostrovnoy\n",
      "Processing Record 46 of Set 2 | codrington\n",
      "Processing Record 47 of Set 2 | palmer\n",
      "Processing Record 48 of Set 2 | krasnopillya\n",
      "Processing Record 49 of Set 2 | saldanha\n",
      "Processing Record 0 of Set 3 | castro\n",
      "Processing Record 1 of Set 3 | saint-philippe\n",
      "Processing Record 2 of Set 3 | klaksvik\n",
      "Processing Record 3 of Set 3 | port lincoln\n",
      "Processing Record 4 of Set 3 | quatre cocos\n",
      "Processing Record 5 of Set 3 | severo-kurilsk\n",
      "Processing Record 6 of Set 3 | bredasdorp\n",
      "Processing Record 7 of Set 3 | boyabat\n",
      "Processing Record 8 of Set 3 | altay\n",
      "Processing Record 9 of Set 3 | luanda\n",
      "Processing Record 10 of Set 3 | saint-louis\n",
      "Processing Record 11 of Set 3 | teacapan\n",
      "Processing Record 12 of Set 3 | yulara\n",
      "Processing Record 13 of Set 3 | cape town\n",
      "Processing Record 14 of Set 3 | kangaatsiaq\n",
      "Processing Record 15 of Set 3 | sosnovo-ozerskoye\n",
      "Processing Record 16 of Set 3 | russell\n",
      "Processing Record 17 of Set 3 | baisoara\n",
      "Processing Record 18 of Set 3 | clyde river\n",
      "Processing Record 19 of Set 3 | walvis bay\n",
      "Processing Record 20 of Set 3 | hilo\n",
      "Processing Record 21 of Set 3 | savannakhet\n",
      "Processing Record 22 of Set 3 | delhi\n",
      "Processing Record 23 of Set 3 | katsuura\n",
      "Processing Record 24 of Set 3 | nalut\n",
      "Processing Record 25 of Set 3 | bismarck\n",
      "Processing Record 26 of Set 3 | cazones\n",
      "Processing Record 27 of Set 3 | togur\n",
      "Processing Record 28 of Set 3 | lebedinyy\n",
      "Processing Record 29 of Set 3 | bethel\n",
      "Processing Record 30 of Set 3 | longyearbyen\n",
      "Processing Record 31 of Set 3 | norman wells\n",
      "Processing Record 32 of Set 3 | port hardy\n",
      "Processing Record 33 of Set 3 | ust-kuyga\n",
      "Processing Record 34 of Set 3 | fortuna\n",
      "Processing Record 35 of Set 3 | sambava\n",
      "Processing Record 36 of Set 3 | port alfred\n",
      "Processing Record 37 of Set 3 | poum\n",
      "Processing Record 38 of Set 3 | saleaula\n",
      "City not found. Skipping...\n",
      "Processing Record 39 of Set 3 | belushya guba\n",
      "City not found. Skipping...\n",
      "Processing Record 40 of Set 3 | eskasem\n",
      "City not found. Skipping...\n",
      "Processing Record 41 of Set 3 | ribeira grande\n",
      "Processing Record 42 of Set 3 | georgetown\n",
      "Processing Record 43 of Set 3 | ponta do sol\n",
      "Processing Record 44 of Set 3 | parrita\n",
      "Processing Record 45 of Set 3 | zhanaozen\n",
      "Processing Record 46 of Set 3 | perigueux\n",
      "Processing Record 47 of Set 3 | esso\n",
      "Processing Record 48 of Set 3 | oudtshoorn\n",
      "Processing Record 49 of Set 3 | hithadhoo\n",
      "Processing Record 0 of Set 4 | brumadinho\n",
      "Processing Record 1 of Set 4 | nichinan\n",
      "Processing Record 2 of Set 4 | tumannyy\n",
      "City not found. Skipping...\n",
      "Processing Record 3 of Set 4 | geraldton\n",
      "Processing Record 4 of Set 4 | tual\n",
      "Processing Record 5 of Set 4 | qaanaaq\n",
      "Processing Record 6 of Set 4 | kilindoni\n",
      "Processing Record 7 of Set 4 | nguiu\n",
      "City not found. Skipping...\n",
      "Processing Record 8 of Set 4 | muli\n",
      "Processing Record 9 of Set 4 | ambunti\n",
      "Processing Record 10 of Set 4 | vaitape\n",
      "Processing Record 11 of Set 4 | porto novo\n",
      "Processing Record 12 of Set 4 | victoria\n",
      "Processing Record 13 of Set 4 | harper\n",
      "Processing Record 14 of Set 4 | semirom\n",
      "Processing Record 15 of Set 4 | alenquer\n",
      "Processing Record 16 of Set 4 | kaitangata\n",
      "Processing Record 17 of Set 4 | borkenes\n",
      "Processing Record 18 of Set 4 | xiongshi\n",
      "City not found. Skipping...\n",
      "Processing Record 19 of Set 4 | louisbourg\n",
      "City not found. Skipping...\n",
      "Processing Record 20 of Set 4 | upernavik\n",
      "Processing Record 21 of Set 4 | khandyga\n",
      "Processing Record 22 of Set 4 | grand-santi\n",
      "Processing Record 23 of Set 4 | attawapiskat\n",
      "City not found. Skipping...\n",
      "Processing Record 24 of Set 4 | faanui\n",
      "Processing Record 25 of Set 4 | padang\n",
      "Processing Record 26 of Set 4 | santa maria\n",
      "Processing Record 27 of Set 4 | uige\n",
      "Processing Record 28 of Set 4 | grand gaube\n",
      "Processing Record 29 of Set 4 | fairbanks\n",
      "Processing Record 30 of Set 4 | khatanga\n",
      "Processing Record 31 of Set 4 | kamaishi\n",
      "Processing Record 32 of Set 4 | tanout\n",
      "Processing Record 33 of Set 4 | vilhena\n",
      "Processing Record 34 of Set 4 | whitehorse\n"
     ]
    },
    {
     "name": "stdout",
     "output_type": "stream",
     "text": [
      "Processing Record 35 of Set 4 | yuanping\n",
      "Processing Record 36 of Set 4 | hami\n",
      "Processing Record 37 of Set 4 | daru\n",
      "Processing Record 38 of Set 4 | miandrivazo\n",
      "Processing Record 39 of Set 4 | fairview\n",
      "Processing Record 40 of Set 4 | dingle\n",
      "Processing Record 41 of Set 4 | faya\n",
      "Processing Record 42 of Set 4 | bilibino\n",
      "Processing Record 43 of Set 4 | beringovskiy\n",
      "Processing Record 44 of Set 4 | perth\n",
      "Processing Record 45 of Set 4 | makarov\n",
      "Processing Record 46 of Set 4 | hasanabad\n",
      "Processing Record 47 of Set 4 | lavumisa\n",
      "Processing Record 48 of Set 4 | vostok\n",
      "Processing Record 49 of Set 4 | bengkulu\n",
      "Processing Record 0 of Set 5 | meulaboh\n",
      "Processing Record 1 of Set 5 | sao miguel\n",
      "Processing Record 2 of Set 5 | kendari\n",
      "Processing Record 3 of Set 5 | samusu\n",
      "City not found. Skipping...\n",
      "Processing Record 4 of Set 5 | xichang\n",
      "Processing Record 5 of Set 5 | alausi\n",
      "Processing Record 6 of Set 5 | houma\n",
      "Processing Record 7 of Set 5 | cabo san lucas\n",
      "Processing Record 8 of Set 5 | corrente\n",
      "Processing Record 9 of Set 5 | taksimo\n",
      "Processing Record 10 of Set 5 | elizabeth city\n",
      "Processing Record 11 of Set 5 | madison heights\n",
      "Processing Record 12 of Set 5 | bressanone\n",
      "Processing Record 13 of Set 5 | tura\n",
      "Processing Record 14 of Set 5 | udachnyy\n",
      "Processing Record 15 of Set 5 | sitka\n",
      "Processing Record 16 of Set 5 | eureka\n",
      "Processing Record 17 of Set 5 | carutapera\n",
      "Processing Record 18 of Set 5 | tateyama\n",
      "Processing Record 19 of Set 5 | hasaki\n",
      "Processing Record 20 of Set 5 | pevek\n",
      "Processing Record 21 of Set 5 | arlit\n",
      "Processing Record 22 of Set 5 | jeremie\n",
      "Processing Record 23 of Set 5 | porto velho\n",
      "Processing Record 24 of Set 5 | ngunguru\n",
      "Processing Record 25 of Set 5 | millinocket\n",
      "Processing Record 26 of Set 5 | san isidro\n",
      "Processing Record 27 of Set 5 | great falls\n",
      "Processing Record 28 of Set 5 | adrar\n",
      "Processing Record 29 of Set 5 | jizan\n",
      "Processing Record 30 of Set 5 | balimo\n",
      "City not found. Skipping...\n",
      "Processing Record 31 of Set 5 | ketchikan\n",
      "Processing Record 32 of Set 5 | palabuhanratu\n",
      "City not found. Skipping...\n",
      "Processing Record 33 of Set 5 | tiksi\n",
      "Processing Record 34 of Set 5 | piranshahr\n",
      "Processing Record 35 of Set 5 | honningsvag\n",
      "Processing Record 36 of Set 5 | dikson\n",
      "Processing Record 37 of Set 5 | bergen\n",
      "Processing Record 38 of Set 5 | kashi\n",
      "Processing Record 39 of Set 5 | sentyabrskiy\n",
      "City not found. Skipping...\n",
      "Processing Record 40 of Set 5 | cartagena\n",
      "Processing Record 41 of Set 5 | viligili\n",
      "City not found. Skipping...\n",
      "Processing Record 42 of Set 5 | saint-pierre\n",
      "Processing Record 43 of Set 5 | nome\n",
      "Processing Record 44 of Set 5 | san policarpo\n",
      "Processing Record 45 of Set 5 | tasiilaq\n",
      "Processing Record 46 of Set 5 | cidreira\n",
      "Processing Record 47 of Set 5 | hay river\n",
      "Processing Record 48 of Set 5 | wexford\n",
      "Processing Record 49 of Set 5 | butaritari\n",
      "Processing Record 0 of Set 6 | nikolskoye\n",
      "Processing Record 1 of Set 6 | batemans bay\n",
      "Processing Record 2 of Set 6 | rincon\n",
      "Processing Record 3 of Set 6 | itarema\n",
      "Processing Record 4 of Set 6 | roald\n",
      "Processing Record 5 of Set 6 | vardo\n",
      "Processing Record 6 of Set 6 | mandali\n",
      "Processing Record 7 of Set 6 | cherskiy\n",
      "Processing Record 8 of Set 6 | victor harbor\n",
      "Processing Record 9 of Set 6 | chuy\n",
      "Processing Record 10 of Set 6 | coihaique\n",
      "Processing Record 11 of Set 6 | nizhneyansk\n",
      "City not found. Skipping...\n",
      "Processing Record 12 of Set 6 | coahuayana\n",
      "Processing Record 13 of Set 6 | saint-marc\n",
      "Processing Record 14 of Set 6 | campbeltown\n",
      "Processing Record 15 of Set 6 | kaihua\n",
      "Processing Record 16 of Set 6 | biscarrosse\n",
      "Processing Record 17 of Set 6 | auki\n",
      "Processing Record 18 of Set 6 | haines junction\n",
      "Processing Record 19 of Set 6 | duluth\n",
      "Processing Record 20 of Set 6 | chabahar\n",
      "Processing Record 21 of Set 6 | omboue\n",
      "Processing Record 22 of Set 6 | ajaccio\n",
      "Processing Record 23 of Set 6 | nizhniy odes\n",
      "Processing Record 24 of Set 6 | sur\n",
      "Processing Record 25 of Set 6 | gairo\n",
      "Processing Record 26 of Set 6 | maunabo\n",
      "Processing Record 27 of Set 6 | umzimvubu\n",
      "City not found. Skipping...\n",
      "Processing Record 28 of Set 6 | utiroa\n",
      "City not found. Skipping...\n",
      "Processing Record 29 of Set 6 | sukhobezvodnoye\n",
      "Processing Record 30 of Set 6 | marathokambos\n",
      "City not found. Skipping...\n",
      "Processing Record 31 of Set 6 | namibe\n",
      "Processing Record 32 of Set 6 | asind\n",
      "Processing Record 33 of Set 6 | kruisfontein\n",
      "Processing Record 34 of Set 6 | baruun-urt\n",
      "Processing Record 35 of Set 6 | sakakah\n",
      "Processing Record 36 of Set 6 | narsaq\n",
      "Processing Record 37 of Set 6 | jiexiu\n",
      "Processing Record 38 of Set 6 | emerald\n",
      "Processing Record 39 of Set 6 | mount gambier\n",
      "Processing Record 40 of Set 6 | sola\n",
      "Processing Record 41 of Set 6 | chara\n",
      "Processing Record 42 of Set 6 | cagayan de tawi-tawi\n",
      "City not found. Skipping...\n",
      "Processing Record 43 of Set 6 | rieti\n",
      "Processing Record 44 of Set 6 | muros\n",
      "Processing Record 45 of Set 6 | anadyr\n",
      "Processing Record 46 of Set 6 | saiha\n",
      "Processing Record 47 of Set 6 | beira\n",
      "Processing Record 48 of Set 6 | san patricio\n",
      "Processing Record 49 of Set 6 | iqaluit\n",
      "Processing Record 0 of Set 7 | sheopur\n",
      "Processing Record 1 of Set 7 | marsh harbour\n",
      "Processing Record 2 of Set 7 | sorong\n",
      "Processing Record 3 of Set 7 | baykit\n",
      "Processing Record 4 of Set 7 | catuday\n",
      "Processing Record 5 of Set 7 | cozumel\n",
      "Processing Record 6 of Set 7 | kroonstad\n",
      "Processing Record 7 of Set 7 | shiraz\n",
      "Processing Record 8 of Set 7 | tsumeb\n",
      "Processing Record 9 of Set 7 | guerrero negro\n",
      "Processing Record 10 of Set 7 | tsihombe\n",
      "City not found. Skipping...\n",
      "Processing Record 11 of Set 7 | kupang\n",
      "Processing Record 12 of Set 7 | phan thiet\n",
      "Processing Record 13 of Set 7 | salta\n",
      "Processing Record 14 of Set 7 | esperance\n",
      "Processing Record 15 of Set 7 | svobodnyy\n",
      "Processing Record 16 of Set 7 | barra do garcas\n",
      "Processing Record 17 of Set 7 | pacific grove\n",
      "Processing Record 18 of Set 7 | aykhal\n",
      "Processing Record 19 of Set 7 | henties bay\n",
      "Processing Record 20 of Set 7 | san jose\n",
      "Processing Record 21 of Set 7 | tiznit\n",
      "Processing Record 22 of Set 7 | spearfish\n",
      "Processing Record 23 of Set 7 | verkhoyansk\n",
      "Processing Record 24 of Set 7 | port moresby\n",
      "Processing Record 25 of Set 7 | kavieng\n",
      "Processing Record 26 of Set 7 | pisco\n",
      "Processing Record 27 of Set 7 | maniitsoq\n",
      "Processing Record 28 of Set 7 | charters towers\n",
      "Processing Record 29 of Set 7 | teya\n",
      "Processing Record 30 of Set 7 | pasinler\n",
      "Processing Record 31 of Set 7 | chisinau\n",
      "Processing Record 32 of Set 7 | tonstad\n",
      "Processing Record 33 of Set 7 | nava\n",
      "Processing Record 34 of Set 7 | yaizu\n",
      "Processing Record 35 of Set 7 | genhe\n",
      "Processing Record 36 of Set 7 | naze\n",
      "Processing Record 37 of Set 7 | sao filipe\n",
      "Processing Record 38 of Set 7 | shache\n",
      "Processing Record 39 of Set 7 | asfi\n",
      "Processing Record 40 of Set 7 | tuy hoa\n",
      "Processing Record 41 of Set 7 | pangnirtung\n",
      "Processing Record 42 of Set 7 | quang ngai\n",
      "Processing Record 43 of Set 7 | bilma\n",
      "Processing Record 44 of Set 7 | chokurdakh\n",
      "Processing Record 45 of Set 7 | kothapet\n",
      "Processing Record 46 of Set 7 | verkh-suetka\n",
      "Processing Record 47 of Set 7 | tripoli\n",
      "Processing Record 48 of Set 7 | vanavara\n",
      "Processing Record 49 of Set 7 | buala\n",
      "Processing Record 0 of Set 8 | jalu\n",
      "Processing Record 1 of Set 8 | nelson bay\n",
      "Processing Record 2 of Set 8 | isangel\n",
      "Processing Record 3 of Set 8 | deputatskiy\n",
      "Processing Record 4 of Set 8 | beruwala\n",
      "Processing Record 5 of Set 8 | ambalema\n",
      "Processing Record 6 of Set 8 | benjamin constant\n",
      "Processing Record 7 of Set 8 | swiecie\n",
      "Processing Record 8 of Set 8 | swinoujscie\n",
      "Processing Record 9 of Set 8 | pathein\n",
      "Processing Record 10 of Set 8 | peace river\n",
      "Processing Record 11 of Set 8 | floro\n",
      "Processing Record 12 of Set 8 | sieradz\n",
      "Processing Record 13 of Set 8 | berlevag\n",
      "Processing Record 14 of Set 8 | sidi ali\n",
      "Processing Record 15 of Set 8 | shemysheyka\n",
      "Processing Record 16 of Set 8 | sioux lookout\n",
      "Processing Record 17 of Set 8 | cacu\n",
      "Processing Record 18 of Set 8 | bodden town\n",
      "Processing Record 19 of Set 8 | merauke\n",
      "Processing Record 20 of Set 8 | margate\n",
      "Processing Record 21 of Set 8 | ladario\n",
      "Processing Record 22 of Set 8 | mwinilunga\n",
      "Processing Record 23 of Set 8 | nsanje\n",
      "Processing Record 24 of Set 8 | gorontalo\n",
      "Processing Record 25 of Set 8 | roma\n",
      "Processing Record 26 of Set 8 | okha\n",
      "Processing Record 27 of Set 8 | saryg-sep\n"
     ]
    },
    {
     "name": "stdout",
     "output_type": "stream",
     "text": [
      "Processing Record 28 of Set 8 | hailar\n",
      "Processing Record 29 of Set 8 | westport\n",
      "Processing Record 30 of Set 8 | airai\n",
      "Processing Record 31 of Set 8 | korla\n",
      "Processing Record 32 of Set 8 | talnakh\n",
      "Processing Record 33 of Set 8 | qarqin\n",
      "Processing Record 34 of Set 8 | mglin\n",
      "Processing Record 35 of Set 8 | cholan\n",
      "City not found. Skipping...\n",
      "Processing Record 36 of Set 8 | christchurch\n",
      "Processing Record 37 of Set 8 | camacha\n",
      "Processing Record 38 of Set 8 | manokwari\n",
      "Processing Record 39 of Set 8 | tautira\n",
      "Processing Record 40 of Set 8 | yakima\n",
      "Processing Record 41 of Set 8 | pafos\n",
      "Processing Record 42 of Set 8 | beihai\n",
      "Processing Record 43 of Set 8 | kodinsk\n",
      "Processing Record 44 of Set 8 | kalmar\n",
      "Processing Record 45 of Set 8 | mehamn\n",
      "Processing Record 46 of Set 8 | san cristobal\n",
      "Processing Record 47 of Set 8 | lasa\n",
      "Processing Record 48 of Set 8 | ancud\n",
      "Processing Record 49 of Set 8 | koboko\n",
      "Processing Record 0 of Set 9 | north bend\n",
      "Processing Record 1 of Set 9 | koson\n",
      "Processing Record 2 of Set 9 | killybegs\n",
      "Processing Record 3 of Set 9 | wilmington\n",
      "Processing Record 4 of Set 9 | lotofaga\n",
      "Processing Record 5 of Set 9 | half moon bay\n",
      "Processing Record 6 of Set 9 | kahului\n",
      "Processing Record 7 of Set 9 | leningradskiy\n",
      "Processing Record 8 of Set 9 | sao miguel do araguaia\n",
      "Processing Record 9 of Set 9 | bonavista\n",
      "Processing Record 10 of Set 9 | chandler\n",
      "Processing Record 11 of Set 9 | zabol\n",
      "Processing Record 12 of Set 9 | mugla\n",
      "Processing Record 13 of Set 9 | sayat\n",
      "Processing Record 14 of Set 9 | vao\n",
      "Processing Record 15 of Set 9 | kazalinsk\n",
      "City not found. Skipping...\n",
      "Processing Record 16 of Set 9 | solok\n",
      "Processing Record 17 of Set 9 | tocopilla\n",
      "Processing Record 18 of Set 9 | vila velha\n",
      "Processing Record 19 of Set 9 | comodoro rivadavia\n",
      "Processing Record 20 of Set 9 | fevralsk\n",
      "City not found. Skipping...\n",
      "Processing Record 21 of Set 9 | berdigestyakh\n",
      "Processing Record 22 of Set 9 | havelock\n",
      "Processing Record 23 of Set 9 | blagoyevo\n",
      "Processing Record 24 of Set 9 | natchitoches\n",
      "Processing Record 25 of Set 9 | kano\n",
      "Processing Record 26 of Set 9 | makakilo city\n",
      "Processing Record 27 of Set 9 | san quintin\n",
      "Processing Record 28 of Set 9 | port-cartier\n",
      "Processing Record 29 of Set 9 | praia\n",
      "Processing Record 30 of Set 9 | lazaro cardenas\n",
      "Processing Record 31 of Set 9 | leh\n",
      "Processing Record 32 of Set 9 | chum phae\n",
      "Processing Record 33 of Set 9 | chapais\n",
      "Processing Record 34 of Set 9 | bathurst\n",
      "Processing Record 35 of Set 9 | polovinnoye\n",
      "Processing Record 36 of Set 9 | kozhva\n",
      "Processing Record 37 of Set 9 | palana\n",
      "Processing Record 38 of Set 9 | paamiut\n",
      "Processing Record 39 of Set 9 | toliary\n",
      "City not found. Skipping...\n",
      "Processing Record 40 of Set 9 | acarau\n",
      "Processing Record 41 of Set 9 | ijaki\n",
      "City not found. Skipping...\n",
      "Processing Record 42 of Set 9 | dzaoudzi\n",
      "Processing Record 43 of Set 9 | fare\n",
      "Processing Record 44 of Set 9 | balkanabat\n",
      "Processing Record 45 of Set 9 | portland\n",
      "Processing Record 46 of Set 9 | paramirim\n",
      "Processing Record 47 of Set 9 | constitucion\n",
      "Processing Record 48 of Set 9 | pedernales\n",
      "Processing Record 49 of Set 9 | sedelnikovo\n",
      "City not found. Skipping...\n",
      "Processing Record 0 of Set 10 | vrangel\n",
      "Processing Record 1 of Set 10 | warmbad\n",
      "Processing Record 2 of Set 10 | pokhara\n",
      "Processing Record 3 of Set 10 | kamen-na-obi\n",
      "Processing Record 4 of Set 10 | ballitoville\n",
      "Processing Record 5 of Set 10 | ust-bolsheretsk\n",
      "City not found. Skipping...\n",
      "Processing Record 6 of Set 10 | ngorongoro\n",
      "Processing Record 7 of Set 10 | kudahuvadhoo\n",
      "Processing Record 8 of Set 10 | trimbak\n",
      "Processing Record 9 of Set 10 | garissa\n",
      "Processing Record 10 of Set 10 | sibolga\n",
      "Processing Record 11 of Set 10 | baiyin\n",
      "Processing Record 12 of Set 10 | cap malheureux\n",
      "Processing Record 13 of Set 10 | alta floresta\n",
      "Processing Record 14 of Set 10 | madimba\n",
      "Processing Record 15 of Set 10 | hit\n",
      "Processing Record 16 of Set 10 | olinda\n",
      "Processing Record 17 of Set 10 | covington\n",
      "Processing Record 18 of Set 10 | gamba\n",
      "Processing Record 19 of Set 10 | monrovia\n",
      "Processing Record 20 of Set 10 | kuching\n",
      "Processing Record 21 of Set 10 | komsomolskiy\n",
      "Processing Record 22 of Set 10 | ayorou\n",
      "Processing Record 23 of Set 10 | pochutla\n",
      "Processing Record 24 of Set 10 | salamiyah\n",
      "Processing Record 25 of Set 10 | puerto carreno\n",
      "Processing Record 26 of Set 10 | usak\n",
      "Processing Record 27 of Set 10 | la roche-sur-yon\n",
      "Processing Record 28 of Set 10 | bafq\n",
      "Processing Record 29 of Set 10 | aksu\n",
      "Processing Record 30 of Set 10 | orebro\n",
      "Processing Record 31 of Set 10 | vakhrushi\n",
      "Processing Record 32 of Set 10 | oranjemund\n",
      "Processing Record 33 of Set 10 | hervey bay\n",
      "Processing Record 34 of Set 10 | marsa matruh\n",
      "Processing Record 35 of Set 10 | qui nhon\n",
      "Processing Record 36 of Set 10 | mentok\n",
      "City not found. Skipping...\n",
      "Processing Record 37 of Set 10 | puksoozero\n",
      "Processing Record 38 of Set 10 | buraydah\n",
      "Processing Record 39 of Set 10 | tarpon springs\n",
      "Processing Record 40 of Set 10 | caohai\n",
      "Processing Record 41 of Set 10 | ambo\n",
      "Processing Record 42 of Set 10 | yirol\n",
      "City not found. Skipping...\n",
      "Processing Record 43 of Set 10 | camopi\n",
      "Processing Record 44 of Set 10 | quixeramobim\n",
      "Processing Record 45 of Set 10 | karratha\n",
      "Processing Record 46 of Set 10 | cambados\n",
      "Processing Record 47 of Set 10 | rungata\n",
      "City not found. Skipping...\n",
      "Processing Record 48 of Set 10 | samarai\n",
      "Processing Record 49 of Set 10 | bichena\n",
      "Processing Record 0 of Set 11 | snezhnogorsk\n",
      "Processing Record 1 of Set 11 | hirara\n",
      "Processing Record 2 of Set 11 | alice springs\n",
      "Processing Record 3 of Set 11 | oktyabrskiy\n",
      "Processing Record 4 of Set 11 | sedona\n",
      "Processing Record 5 of Set 11 | warqla\n",
      "City not found. Skipping...\n",
      "Processing Record 6 of Set 11 | pedro ii\n",
      "Processing Record 7 of Set 11 | stuttgart\n",
      "Processing Record 8 of Set 11 | mongagua\n",
      "Processing Record 9 of Set 11 | acari\n",
      "Processing Record 10 of Set 11 | goya\n",
      "Processing Record 11 of Set 11 | kerteh\n",
      "City not found. Skipping...\n",
      "Processing Record 12 of Set 11 | midland\n",
      "Processing Record 13 of Set 11 | omaruru\n",
      "Processing Record 14 of Set 11 | mutsamudu\n",
      "City not found. Skipping...\n",
      "Processing Record 15 of Set 11 | verkhnyaya toyma\n",
      "Processing Record 16 of Set 11 | zhigansk\n",
      "Processing Record 17 of Set 11 | valparaiso\n",
      "Processing Record 18 of Set 11 | waingapu\n",
      "Processing Record 19 of Set 11 | san lawrenz\n",
      "Processing Record 20 of Set 11 | dakar\n",
      "Processing Record 21 of Set 11 | acapulco\n",
      "Processing Record 22 of Set 11 | ghanzi\n",
      "Processing Record 23 of Set 11 | monywa\n",
      "Processing Record 24 of Set 11 | zhitikara\n",
      "City not found. Skipping...\n",
      "Processing Record 25 of Set 11 | makat\n",
      "Processing Record 26 of Set 11 | chagda\n",
      "City not found. Skipping...\n",
      "Processing Record 27 of Set 11 | sao joao da barra\n",
      "Processing Record 28 of Set 11 | petropavlovsk-kamchatskiy\n",
      "Processing Record 29 of Set 11 | kembe\n",
      "Processing Record 30 of Set 11 | elko\n",
      "Processing Record 31 of Set 11 | ye\n",
      "City not found. Skipping...\n",
      "Processing Record 32 of Set 11 | baykalsk\n",
      "Processing Record 33 of Set 11 | mortka\n",
      "Processing Record 34 of Set 11 | samana\n",
      "Processing Record 35 of Set 11 | yar-sale\n",
      "Processing Record 36 of Set 11 | kirakira\n",
      "Processing Record 37 of Set 11 | mbanza-ngungu\n",
      "Processing Record 38 of Set 11 | mujiayingzi\n",
      "Processing Record 39 of Set 11 | salto\n",
      "Processing Record 40 of Set 11 | dapaong\n",
      "Processing Record 41 of Set 11 | majene\n",
      "Processing Record 42 of Set 11 | merrill\n",
      "Processing Record 43 of Set 11 | tanabe\n",
      "Processing Record 44 of Set 11 | taburi\n",
      "City not found. Skipping...\n",
      "Processing Record 45 of Set 11 | konyshevka\n",
      "Processing Record 46 of Set 11 | yangjiang\n",
      "Processing Record 47 of Set 11 | doha\n",
      "Processing Record 48 of Set 11 | hovd\n",
      "Processing Record 49 of Set 11 | smolenka\n",
      "Processing Record 0 of Set 12 | ahipara\n",
      "Processing Record 1 of Set 12 | sovetskaya\n",
      "Processing Record 2 of Set 12 | shakhta\n",
      "Processing Record 3 of Set 12 | berja\n",
      "Processing Record 4 of Set 12 | bakchar\n",
      "Processing Record 5 of Set 12 | murgab\n",
      "Processing Record 6 of Set 12 | manoharpur\n",
      "Processing Record 7 of Set 12 | seoul\n",
      "Processing Record 8 of Set 12 | karaul\n",
      "City not found. Skipping...\n",
      "Processing Record 9 of Set 12 | ballina\n",
      "Processing Record 10 of Set 12 | nanortalik\n",
      "Processing Record 11 of Set 12 | wanning\n",
      "Processing Record 12 of Set 12 | kuusamo\n",
      "Processing Record 13 of Set 12 | grindavik\n"
     ]
    },
    {
     "name": "stdout",
     "output_type": "stream",
     "text": [
      "Processing Record 14 of Set 12 | randolph\n",
      "Processing Record 15 of Set 12 | charagua\n",
      "Processing Record 16 of Set 12 | khammam\n",
      "Processing Record 17 of Set 12 | alofi\n",
      "Processing Record 18 of Set 12 | maldonado\n",
      "Processing Record 19 of Set 12 | khonuu\n",
      "City not found. Skipping...\n",
      "Processing Record 20 of Set 12 | iracoubo\n",
      "Processing Record 21 of Set 12 | namatanai\n",
      "Processing Record 22 of Set 12 | durres\n",
      "Processing Record 23 of Set 12 | chitral\n",
      "Processing Record 24 of Set 12 | kavaratti\n",
      "Processing Record 25 of Set 12 | aklavik\n",
      "Processing Record 26 of Set 12 | srednekolymsk\n",
      "Processing Record 27 of Set 12 | erenhot\n",
      "Processing Record 28 of Set 12 | tangshan\n",
      "Processing Record 29 of Set 12 | stabat\n",
      "Processing Record 30 of Set 12 | brae\n",
      "Processing Record 31 of Set 12 | visby\n",
      "Processing Record 32 of Set 12 | doctor pedro p. pena\n",
      "City not found. Skipping...\n",
      "Processing Record 33 of Set 12 | marawi\n",
      "Processing Record 34 of Set 12 | ornskoldsvik\n",
      "Processing Record 35 of Set 12 | atbasar\n",
      "Processing Record 36 of Set 12 | qaqortoq\n",
      "Processing Record 37 of Set 12 | matara\n",
      "Processing Record 38 of Set 12 | novo aripuana\n",
      "Processing Record 39 of Set 12 | yining\n",
      "Processing Record 40 of Set 12 | hue\n",
      "Processing Record 41 of Set 12 | tsabong\n",
      "Processing Record 42 of Set 12 | rosarito\n",
      "Processing Record 43 of Set 12 | los llanos de aridane\n",
      "Processing Record 44 of Set 12 | rabo de peixe\n",
      "Processing Record 45 of Set 12 | suicheng\n",
      "-------------------------------\n",
      "-------------------------------\n",
      "Data Retrieval Complete      \n",
      "-------------------------------\n",
      "-------------------------------\n"
     ]
    }
   ],
   "source": [
    "# Starting URL for Weather Map API Call\n",
    "url = \"http://api.openweathermap.org/data/2.5/weather?units=Imperial&APPID=\" + weather_api_key\n",
    "\n",
    "# List of city data\n",
    "city_data = []\n",
    "\n",
    "print(\"-\"*31)\n",
    "print(\"-\"*31)\n",
    "print(\"Beginning Data Retrieval     \")\n",
    "print(\"-\"*31)\n",
    "print(\"-\"*31)\n",
    "\n",
    "# Create counters\n",
    "record_count = 1\n",
    "set_count = 1\n",
    "\n",
    "# Loop through all the cities in our list\n",
    "for i, city in enumerate(cities):\n",
    "        \n",
    "    # Group cities in sets of 50 for logging purposes\n",
    "    if (i % 50 == 0 and i >= 50):\n",
    "        set_count += 1\n",
    "        record_count = 0\n",
    "\n",
    "    # Create endpoint URL with each city\n",
    "    city_url = url + \"&q=\" + city\n",
    "    \n",
    "       # Log the url, record, and set numbers\n",
    "    print(\"Processing Record %s of Set %s | %s\" % (record_count, set_count, city))\n",
    "    \n",
    "    # Add 1 to the record count\n",
    "    record_count += 1\n",
    "    \n",
    "    # Run an API request for each of the cities\n",
    "    try:\n",
    "        # Parse the JSON and retrieve data\n",
    "        city_weather = requests.get(city_url).json()\n",
    "        \n",
    "        \n",
    "        # Parse out the max temp, humidity, and cloudiness\n",
    "        city_lat = city_weather[\"coord\"][\"lat\"]\n",
    "        city_lng = city_weather[\"coord\"][\"lon\"]\n",
    "        city_max_temp = city_weather[\"main\"][\"temp_max\"]\n",
    "        city_humidity = city_weather[\"main\"][\"humidity\"]\n",
    "        city_clouds = city_weather[\"clouds\"][\"all\"]\n",
    "        city_wind = city_weather[\"wind\"][\"speed\"]\n",
    "        city_country = city_weather[\"sys\"][\"country\"]\n",
    "        city_date = city_weather[\"dt\"]\n",
    "    \n",
    "    \n",
    "        # Append the City information into city_data list\n",
    "        city_data.append({\"City\": city, \n",
    "                          \"Lat\": city_lat, \n",
    "                          \"Lng\": city_lng, \n",
    "                          \"Max Temp\": city_max_temp,\n",
    "                          \"Humidity\": city_humidity,\n",
    "                          \"Cloudiness\": city_clouds,\n",
    "                          \"Wind Speed\": city_wind,\n",
    "                          \"Country\": city_country,\n",
    "                          \"Date\": city_date})\n",
    "          #If an error is experienced, skip the city\n",
    "    except:\n",
    "        print(\"City not found. Skipping...\")\n",
    "        pass\n",
    "    \n",
    "    # Indicate that Data Loading is complete \n",
    "print(\"-\"*31)\n",
    "print(\"-\"*31)\n",
    "print(\"Data Retrieval Complete      \")\n",
    "print(\"-\"*31)\n",
    "print(\"-\"*31)             "
   ]
  },
  {
   "cell_type": "markdown",
   "metadata": {},
   "source": [
    "### Convert Raw Data to DataFrame"
   ]
  },
  {
   "cell_type": "code",
   "execution_count": 6,
   "metadata": {},
   "outputs": [
    {
     "data": {
      "text/html": [
       "<div>\n",
       "<style scoped>\n",
       "    .dataframe tbody tr th:only-of-type {\n",
       "        vertical-align: middle;\n",
       "    }\n",
       "\n",
       "    .dataframe tbody tr th {\n",
       "        vertical-align: top;\n",
       "    }\n",
       "\n",
       "    .dataframe thead th {\n",
       "        text-align: right;\n",
       "    }\n",
       "</style>\n",
       "<table border=\"1\" class=\"dataframe\">\n",
       "  <thead>\n",
       "    <tr style=\"text-align: right;\">\n",
       "      <th></th>\n",
       "      <th>City</th>\n",
       "      <th>Lat</th>\n",
       "      <th>Lng</th>\n",
       "      <th>Max Temp</th>\n",
       "      <th>Humidity</th>\n",
       "      <th>Cloudiness</th>\n",
       "      <th>Wind Speed</th>\n",
       "      <th>Country</th>\n",
       "      <th>Date</th>\n",
       "    </tr>\n",
       "  </thead>\n",
       "  <tbody>\n",
       "    <tr>\n",
       "      <th>0</th>\n",
       "      <td>busselton</td>\n",
       "      <td>-33.6500</td>\n",
       "      <td>115.3333</td>\n",
       "      <td>64.00</td>\n",
       "      <td>88</td>\n",
       "      <td>98</td>\n",
       "      <td>1.01</td>\n",
       "      <td>AU</td>\n",
       "      <td>1615145598</td>\n",
       "    </tr>\n",
       "    <tr>\n",
       "      <th>1</th>\n",
       "      <td>mareeba</td>\n",
       "      <td>-17.0000</td>\n",
       "      <td>145.4333</td>\n",
       "      <td>77.00</td>\n",
       "      <td>83</td>\n",
       "      <td>75</td>\n",
       "      <td>5.75</td>\n",
       "      <td>AU</td>\n",
       "      <td>1615145678</td>\n",
       "    </tr>\n",
       "    <tr>\n",
       "      <th>2</th>\n",
       "      <td>tooele</td>\n",
       "      <td>40.5308</td>\n",
       "      <td>-112.2983</td>\n",
       "      <td>57.99</td>\n",
       "      <td>50</td>\n",
       "      <td>1</td>\n",
       "      <td>3.44</td>\n",
       "      <td>US</td>\n",
       "      <td>1615145678</td>\n",
       "    </tr>\n",
       "    <tr>\n",
       "      <th>3</th>\n",
       "      <td>arraial do cabo</td>\n",
       "      <td>-22.9661</td>\n",
       "      <td>-42.0278</td>\n",
       "      <td>78.80</td>\n",
       "      <td>83</td>\n",
       "      <td>75</td>\n",
       "      <td>9.22</td>\n",
       "      <td>BR</td>\n",
       "      <td>1615145678</td>\n",
       "    </tr>\n",
       "    <tr>\n",
       "      <th>4</th>\n",
       "      <td>kaeo</td>\n",
       "      <td>-35.1000</td>\n",
       "      <td>173.7833</td>\n",
       "      <td>62.01</td>\n",
       "      <td>83</td>\n",
       "      <td>55</td>\n",
       "      <td>5.01</td>\n",
       "      <td>NZ</td>\n",
       "      <td>1615145678</td>\n",
       "    </tr>\n",
       "    <tr>\n",
       "      <th>5</th>\n",
       "      <td>yellowknife</td>\n",
       "      <td>62.4560</td>\n",
       "      <td>-114.3525</td>\n",
       "      <td>12.00</td>\n",
       "      <td>72</td>\n",
       "      <td>20</td>\n",
       "      <td>14.97</td>\n",
       "      <td>CA</td>\n",
       "      <td>1615145678</td>\n",
       "    </tr>\n",
       "    <tr>\n",
       "      <th>6</th>\n",
       "      <td>hobart</td>\n",
       "      <td>-42.8794</td>\n",
       "      <td>147.3294</td>\n",
       "      <td>53.01</td>\n",
       "      <td>93</td>\n",
       "      <td>75</td>\n",
       "      <td>2.28</td>\n",
       "      <td>AU</td>\n",
       "      <td>1615145511</td>\n",
       "    </tr>\n",
       "    <tr>\n",
       "      <th>7</th>\n",
       "      <td>saskylakh</td>\n",
       "      <td>71.9167</td>\n",
       "      <td>114.0833</td>\n",
       "      <td>-30.08</td>\n",
       "      <td>83</td>\n",
       "      <td>99</td>\n",
       "      <td>3.24</td>\n",
       "      <td>RU</td>\n",
       "      <td>1615145678</td>\n",
       "    </tr>\n",
       "    <tr>\n",
       "      <th>8</th>\n",
       "      <td>ushuaia</td>\n",
       "      <td>-54.8000</td>\n",
       "      <td>-68.3000</td>\n",
       "      <td>44.60</td>\n",
       "      <td>70</td>\n",
       "      <td>40</td>\n",
       "      <td>28.77</td>\n",
       "      <td>AR</td>\n",
       "      <td>1615145679</td>\n",
       "    </tr>\n",
       "    <tr>\n",
       "      <th>9</th>\n",
       "      <td>bambous virieux</td>\n",
       "      <td>-20.3428</td>\n",
       "      <td>57.7575</td>\n",
       "      <td>81.00</td>\n",
       "      <td>89</td>\n",
       "      <td>40</td>\n",
       "      <td>6.91</td>\n",
       "      <td>MU</td>\n",
       "      <td>1615145679</td>\n",
       "    </tr>\n",
       "  </tbody>\n",
       "</table>\n",
       "</div>"
      ],
      "text/plain": [
       "              City      Lat       Lng  Max Temp  Humidity  Cloudiness  \\\n",
       "0        busselton -33.6500  115.3333     64.00        88          98   \n",
       "1          mareeba -17.0000  145.4333     77.00        83          75   \n",
       "2           tooele  40.5308 -112.2983     57.99        50           1   \n",
       "3  arraial do cabo -22.9661  -42.0278     78.80        83          75   \n",
       "4             kaeo -35.1000  173.7833     62.01        83          55   \n",
       "5      yellowknife  62.4560 -114.3525     12.00        72          20   \n",
       "6           hobart -42.8794  147.3294     53.01        93          75   \n",
       "7        saskylakh  71.9167  114.0833    -30.08        83          99   \n",
       "8          ushuaia -54.8000  -68.3000     44.60        70          40   \n",
       "9  bambous virieux -20.3428   57.7575     81.00        89          40   \n",
       "\n",
       "   Wind Speed Country        Date  \n",
       "0        1.01      AU  1615145598  \n",
       "1        5.75      AU  1615145678  \n",
       "2        3.44      US  1615145678  \n",
       "3        9.22      BR  1615145678  \n",
       "4        5.01      NZ  1615145678  \n",
       "5       14.97      CA  1615145678  \n",
       "6        2.28      AU  1615145511  \n",
       "7        3.24      RU  1615145678  \n",
       "8       28.77      AR  1615145679  \n",
       "9        6.91      MU  1615145679  "
      ]
     },
     "execution_count": 6,
     "metadata": {},
     "output_type": "execute_result"
    }
   ],
   "source": [
    "#Convert the data to DataFrame\n",
    "city_df = pd.DataFrame(city_data)\n",
    "# Display the City Data Frame\n",
    "city_df.head(10)"
   ]
  },
  {
   "cell_type": "code",
   "execution_count": 7,
   "metadata": {},
   "outputs": [
    {
     "data": {
      "text/plain": [
       "City          549\n",
       "Lat           549\n",
       "Lng           549\n",
       "Max Temp      549\n",
       "Humidity      549\n",
       "Cloudiness    549\n",
       "Wind Speed    549\n",
       "Country       549\n",
       "Date          549\n",
       "dtype: int64"
      ]
     },
     "execution_count": 7,
     "metadata": {},
     "output_type": "execute_result"
    }
   ],
   "source": [
    "# Show Record Count\n",
    "city_df.count()"
   ]
  },
  {
   "cell_type": "code",
   "execution_count": 9,
   "metadata": {},
   "outputs": [],
   "source": [
    "# Exporting to CSV\n",
    "city_df.to_csv(\"cities.csv\")"
   ]
  },
  {
   "cell_type": "markdown",
   "metadata": {},
   "source": [
    "## Inspect the data and remove the cities where the humidity > 100%."
   ]
  },
  {
   "cell_type": "code",
   "execution_count": 10,
   "metadata": {},
   "outputs": [
    {
     "data": {
      "text/html": [
       "<div>\n",
       "<style scoped>\n",
       "    .dataframe tbody tr th:only-of-type {\n",
       "        vertical-align: middle;\n",
       "    }\n",
       "\n",
       "    .dataframe tbody tr th {\n",
       "        vertical-align: top;\n",
       "    }\n",
       "\n",
       "    .dataframe thead th {\n",
       "        text-align: right;\n",
       "    }\n",
       "</style>\n",
       "<table border=\"1\" class=\"dataframe\">\n",
       "  <thead>\n",
       "    <tr style=\"text-align: right;\">\n",
       "      <th></th>\n",
       "      <th>Lat</th>\n",
       "      <th>Lng</th>\n",
       "      <th>Max Temp</th>\n",
       "      <th>Humidity</th>\n",
       "      <th>Cloudiness</th>\n",
       "      <th>Wind Speed</th>\n",
       "      <th>Date</th>\n",
       "    </tr>\n",
       "  </thead>\n",
       "  <tbody>\n",
       "    <tr>\n",
       "      <th>count</th>\n",
       "      <td>549.000000</td>\n",
       "      <td>549.000000</td>\n",
       "      <td>549.000000</td>\n",
       "      <td>549.000000</td>\n",
       "      <td>549.000000</td>\n",
       "      <td>549.000000</td>\n",
       "      <td>5.490000e+02</td>\n",
       "    </tr>\n",
       "    <tr>\n",
       "      <th>mean</th>\n",
       "      <td>20.426863</td>\n",
       "      <td>21.467328</td>\n",
       "      <td>52.881803</td>\n",
       "      <td>71.366120</td>\n",
       "      <td>49.176685</td>\n",
       "      <td>8.463443</td>\n",
       "      <td>1.615146e+09</td>\n",
       "    </tr>\n",
       "    <tr>\n",
       "      <th>std</th>\n",
       "      <td>33.219183</td>\n",
       "      <td>90.438459</td>\n",
       "      <td>29.635603</td>\n",
       "      <td>21.689389</td>\n",
       "      <td>40.014866</td>\n",
       "      <td>5.725164</td>\n",
       "      <td>7.682595e+01</td>\n",
       "    </tr>\n",
       "    <tr>\n",
       "      <th>min</th>\n",
       "      <td>-54.800000</td>\n",
       "      <td>-175.200000</td>\n",
       "      <td>-31.940000</td>\n",
       "      <td>12.000000</td>\n",
       "      <td>0.000000</td>\n",
       "      <td>0.160000</td>\n",
       "      <td>1.615145e+09</td>\n",
       "    </tr>\n",
       "    <tr>\n",
       "      <th>25%</th>\n",
       "      <td>-8.145000</td>\n",
       "      <td>-57.601700</td>\n",
       "      <td>33.800000</td>\n",
       "      <td>60.000000</td>\n",
       "      <td>1.000000</td>\n",
       "      <td>4.470000</td>\n",
       "      <td>1.615146e+09</td>\n",
       "    </tr>\n",
       "    <tr>\n",
       "      <th>50%</th>\n",
       "      <td>26.326000</td>\n",
       "      <td>26.400000</td>\n",
       "      <td>62.600000</td>\n",
       "      <td>78.000000</td>\n",
       "      <td>44.000000</td>\n",
       "      <td>7.180000</td>\n",
       "      <td>1.615146e+09</td>\n",
       "    </tr>\n",
       "    <tr>\n",
       "      <th>75%</th>\n",
       "      <td>47.804300</td>\n",
       "      <td>102.279700</td>\n",
       "      <td>77.000000</td>\n",
       "      <td>88.000000</td>\n",
       "      <td>90.000000</td>\n",
       "      <td>11.430000</td>\n",
       "      <td>1.615146e+09</td>\n",
       "    </tr>\n",
       "    <tr>\n",
       "      <th>max</th>\n",
       "      <td>78.218600</td>\n",
       "      <td>179.316700</td>\n",
       "      <td>97.110000</td>\n",
       "      <td>100.000000</td>\n",
       "      <td>100.000000</td>\n",
       "      <td>37.980000</td>\n",
       "      <td>1.615146e+09</td>\n",
       "    </tr>\n",
       "  </tbody>\n",
       "</table>\n",
       "</div>"
      ],
      "text/plain": [
       "              Lat         Lng    Max Temp    Humidity  Cloudiness  Wind Speed  \\\n",
       "count  549.000000  549.000000  549.000000  549.000000  549.000000  549.000000   \n",
       "mean    20.426863   21.467328   52.881803   71.366120   49.176685    8.463443   \n",
       "std     33.219183   90.438459   29.635603   21.689389   40.014866    5.725164   \n",
       "min    -54.800000 -175.200000  -31.940000   12.000000    0.000000    0.160000   \n",
       "25%     -8.145000  -57.601700   33.800000   60.000000    1.000000    4.470000   \n",
       "50%     26.326000   26.400000   62.600000   78.000000   44.000000    7.180000   \n",
       "75%     47.804300  102.279700   77.000000   88.000000   90.000000   11.430000   \n",
       "max     78.218600  179.316700   97.110000  100.000000  100.000000   37.980000   \n",
       "\n",
       "               Date  \n",
       "count  5.490000e+02  \n",
       "mean   1.615146e+09  \n",
       "std    7.682595e+01  \n",
       "min    1.615145e+09  \n",
       "25%    1.615146e+09  \n",
       "50%    1.615146e+09  \n",
       "75%    1.615146e+09  \n",
       "max    1.615146e+09  "
      ]
     },
     "execution_count": 10,
     "metadata": {},
     "output_type": "execute_result"
    }
   ],
   "source": [
    "city_df.describe()"
   ]
  },
  {
   "cell_type": "code",
   "execution_count": 13,
   "metadata": {},
   "outputs": [
    {
     "data": {
      "text/plain": [
       "Int64Index([], dtype='int64')"
      ]
     },
     "execution_count": 13,
     "metadata": {},
     "output_type": "execute_result"
    }
   ],
   "source": [
    "#  Get the indices of cities that have humidity over 100%.\n",
    "humidity_data = city_df[(city_df[\"Humidity\"] > 100)].index\n",
    "                                  \n",
    "humidity_data"
   ]
  },
  {
   "cell_type": "code",
   "execution_count": 14,
   "metadata": {},
   "outputs": [
    {
     "data": {
      "text/html": [
       "<div>\n",
       "<style scoped>\n",
       "    .dataframe tbody tr th:only-of-type {\n",
       "        vertical-align: middle;\n",
       "    }\n",
       "\n",
       "    .dataframe tbody tr th {\n",
       "        vertical-align: top;\n",
       "    }\n",
       "\n",
       "    .dataframe thead th {\n",
       "        text-align: right;\n",
       "    }\n",
       "</style>\n",
       "<table border=\"1\" class=\"dataframe\">\n",
       "  <thead>\n",
       "    <tr style=\"text-align: right;\">\n",
       "      <th></th>\n",
       "      <th>City</th>\n",
       "      <th>Lat</th>\n",
       "      <th>Lng</th>\n",
       "      <th>Max Temp</th>\n",
       "      <th>Humidity</th>\n",
       "      <th>Cloudiness</th>\n",
       "      <th>Wind Speed</th>\n",
       "      <th>Country</th>\n",
       "      <th>Date</th>\n",
       "    </tr>\n",
       "  </thead>\n",
       "  <tbody>\n",
       "    <tr>\n",
       "      <th>0</th>\n",
       "      <td>busselton</td>\n",
       "      <td>-33.6500</td>\n",
       "      <td>115.3333</td>\n",
       "      <td>64.00</td>\n",
       "      <td>88</td>\n",
       "      <td>98</td>\n",
       "      <td>1.01</td>\n",
       "      <td>AU</td>\n",
       "      <td>1615145598</td>\n",
       "    </tr>\n",
       "    <tr>\n",
       "      <th>1</th>\n",
       "      <td>mareeba</td>\n",
       "      <td>-17.0000</td>\n",
       "      <td>145.4333</td>\n",
       "      <td>77.00</td>\n",
       "      <td>83</td>\n",
       "      <td>75</td>\n",
       "      <td>5.75</td>\n",
       "      <td>AU</td>\n",
       "      <td>1615145678</td>\n",
       "    </tr>\n",
       "    <tr>\n",
       "      <th>2</th>\n",
       "      <td>tooele</td>\n",
       "      <td>40.5308</td>\n",
       "      <td>-112.2983</td>\n",
       "      <td>57.99</td>\n",
       "      <td>50</td>\n",
       "      <td>1</td>\n",
       "      <td>3.44</td>\n",
       "      <td>US</td>\n",
       "      <td>1615145678</td>\n",
       "    </tr>\n",
       "    <tr>\n",
       "      <th>3</th>\n",
       "      <td>arraial do cabo</td>\n",
       "      <td>-22.9661</td>\n",
       "      <td>-42.0278</td>\n",
       "      <td>78.80</td>\n",
       "      <td>83</td>\n",
       "      <td>75</td>\n",
       "      <td>9.22</td>\n",
       "      <td>BR</td>\n",
       "      <td>1615145678</td>\n",
       "    </tr>\n",
       "    <tr>\n",
       "      <th>4</th>\n",
       "      <td>kaeo</td>\n",
       "      <td>-35.1000</td>\n",
       "      <td>173.7833</td>\n",
       "      <td>62.01</td>\n",
       "      <td>83</td>\n",
       "      <td>55</td>\n",
       "      <td>5.01</td>\n",
       "      <td>NZ</td>\n",
       "      <td>1615145678</td>\n",
       "    </tr>\n",
       "    <tr>\n",
       "      <th>5</th>\n",
       "      <td>yellowknife</td>\n",
       "      <td>62.4560</td>\n",
       "      <td>-114.3525</td>\n",
       "      <td>12.00</td>\n",
       "      <td>72</td>\n",
       "      <td>20</td>\n",
       "      <td>14.97</td>\n",
       "      <td>CA</td>\n",
       "      <td>1615145678</td>\n",
       "    </tr>\n",
       "    <tr>\n",
       "      <th>6</th>\n",
       "      <td>hobart</td>\n",
       "      <td>-42.8794</td>\n",
       "      <td>147.3294</td>\n",
       "      <td>53.01</td>\n",
       "      <td>93</td>\n",
       "      <td>75</td>\n",
       "      <td>2.28</td>\n",
       "      <td>AU</td>\n",
       "      <td>1615145511</td>\n",
       "    </tr>\n",
       "    <tr>\n",
       "      <th>7</th>\n",
       "      <td>saskylakh</td>\n",
       "      <td>71.9167</td>\n",
       "      <td>114.0833</td>\n",
       "      <td>-30.08</td>\n",
       "      <td>83</td>\n",
       "      <td>99</td>\n",
       "      <td>3.24</td>\n",
       "      <td>RU</td>\n",
       "      <td>1615145678</td>\n",
       "    </tr>\n",
       "    <tr>\n",
       "      <th>8</th>\n",
       "      <td>ushuaia</td>\n",
       "      <td>-54.8000</td>\n",
       "      <td>-68.3000</td>\n",
       "      <td>44.60</td>\n",
       "      <td>70</td>\n",
       "      <td>40</td>\n",
       "      <td>28.77</td>\n",
       "      <td>AR</td>\n",
       "      <td>1615145679</td>\n",
       "    </tr>\n",
       "    <tr>\n",
       "      <th>9</th>\n",
       "      <td>bambous virieux</td>\n",
       "      <td>-20.3428</td>\n",
       "      <td>57.7575</td>\n",
       "      <td>81.00</td>\n",
       "      <td>89</td>\n",
       "      <td>40</td>\n",
       "      <td>6.91</td>\n",
       "      <td>MU</td>\n",
       "      <td>1615145679</td>\n",
       "    </tr>\n",
       "  </tbody>\n",
       "</table>\n",
       "</div>"
      ],
      "text/plain": [
       "              City      Lat       Lng  Max Temp  Humidity  Cloudiness  \\\n",
       "0        busselton -33.6500  115.3333     64.00        88          98   \n",
       "1          mareeba -17.0000  145.4333     77.00        83          75   \n",
       "2           tooele  40.5308 -112.2983     57.99        50           1   \n",
       "3  arraial do cabo -22.9661  -42.0278     78.80        83          75   \n",
       "4             kaeo -35.1000  173.7833     62.01        83          55   \n",
       "5      yellowknife  62.4560 -114.3525     12.00        72          20   \n",
       "6           hobart -42.8794  147.3294     53.01        93          75   \n",
       "7        saskylakh  71.9167  114.0833    -30.08        83          99   \n",
       "8          ushuaia -54.8000  -68.3000     44.60        70          40   \n",
       "9  bambous virieux -20.3428   57.7575     81.00        89          40   \n",
       "\n",
       "   Wind Speed Country        Date  \n",
       "0        1.01      AU  1615145598  \n",
       "1        5.75      AU  1615145678  \n",
       "2        3.44      US  1615145678  \n",
       "3        9.22      BR  1615145678  \n",
       "4        5.01      NZ  1615145678  \n",
       "5       14.97      CA  1615145678  \n",
       "6        2.28      AU  1615145511  \n",
       "7        3.24      RU  1615145678  \n",
       "8       28.77      AR  1615145679  \n",
       "9        6.91      MU  1615145679  "
      ]
     },
     "execution_count": 14,
     "metadata": {},
     "output_type": "execute_result"
    }
   ],
   "source": [
    "# Make a new DataFrame equal to the city data to drop all humidity outliers by index.\n",
    "# Passing \"inplace=False\" will make a copy of the city_data DataFrame, which we call \"clean_city_data\".\n",
    "clean_city_data = city_df.drop(humidity_data, inplace=False)\n",
    "clean_city_data.head(10)"
   ]
  },
  {
   "cell_type": "code",
   "execution_count": 20,
   "metadata": {},
   "outputs": [],
   "source": [
    "# Extract relevant fields from the data frame\n",
    "lats = clean_city_data[\"Lat\"]\n",
    "max_temps = clean_city_data[\"Max Temp\"]\n",
    "humidity = clean_city_data[\"Humidity\"]\n",
    "cloudiness = clean_city_data[\"Cloudiness\"]\n",
    "wind_speed = clean_city_data[\"Wind Speed\"]\n",
    "\n",
    "\n",
    "# Export the City_Data into a csv\n",
    "clean_city_data.to_csv(\"clean.csv\", index_label=\"City_ID\")"
   ]
  },
  {
   "cell_type": "markdown",
   "metadata": {},
   "source": [
    "## Plotting the Data"
   ]
  },
  {
   "cell_type": "markdown",
   "metadata": {},
   "source": [
    "## Latitude vs. Temperature Plot"
   ]
  },
  {
   "cell_type": "code",
   "execution_count": 36,
   "metadata": {
    "scrolled": true
   },
   "outputs": [
    {
     "data": {
      "image/png": "[encoded data removed]",
      "text/plain": [
       "<Figure size 432x288 with 1 Axes>"
      ]
     },
     "metadata": {
      "needs_background": "light"
     },
     "output_type": "display_data"
    }
   ],
   "source": [
    "# Build scatter plot for latitude vs. temperature\n",
    "plt.scatter(lats, \n",
    "            max_temps,\n",
    "            edgecolor=\"purple\", linewidths=1, marker=\"*\", \n",
    "            alpha=0.8, label=\"Cities\")\n",
    "\n",
    "# Incorporate the other graph properties\n",
    "plt.title(\"City Latitude vs. Max Temperature (%s)\" % time.strftime(\"%x\"), color=\"red\")\n",
    "plt.ylabel(\"Max Temperature (F)\", color=\"red\")\n",
    "plt.xlabel(\"Latitude\", color=\"red\")\n",
    "plt.grid(True)\n",
    "plt.savefig(\"Fig1.png\")\n",
    "plt.show()"
   ]
  },
  {
   "cell_type": "markdown",
   "metadata": {},
   "source": [
    "## Latitude vs. Humidity Plot"
   ]
  },
  {
   "cell_type": "code",
   "execution_count": 44,
   "metadata": {},
   "outputs": [
    {
     "data": {
      "image/png": "[encoded data removed]",
      "text/plain": [
       "<Figure size 432x288 with 1 Axes>"
      ]
     },
     "metadata": {
      "needs_background": "light"
     },
     "output_type": "display_data"
    }
   ],
   "source": [
    "\n",
    "# Build the scatter plots for latitude vs. humidity\n",
    "plt.scatter(lats, \n",
    "            humidity,\n",
    "            edgecolor=\"blue\", linewidths=1, marker=\"*\", \n",
    "            alpha=0.8, label=\"Cities\")\n",
    "\n",
    "# Incorporate the other graph properties\n",
    "plt.title(\"City Latitude vs. Humidity (%s)\" % time.strftime(\"%x\"),color=\"orange\")\n",
    "plt.xlabel(\"Latitude\",color=\"orange\")\n",
    "plt.ylabel(\"Humidity (%)\",color=\"orange\")\n",
    "plt.grid(True)\n",
    "\n",
    "plt.savefig(\"Fig2.png\")\n",
    "plt.show()"
   ]
  },
  {
   "cell_type": "markdown",
   "metadata": {},
   "source": [
    "## Latitude vs. Cloudiness Plot"
   ]
  },
  {
   "cell_type": "code",
   "execution_count": 57,
   "metadata": {},
   "outputs": [
    {
     "data": {
      "image/png": "[encoded data removed]",
      "text/plain": [
       "<Figure size 432x288 with 1 Axes>"
      ]
     },
     "metadata": {
      "needs_background": "light"
     },
     "output_type": "display_data"
    }
   ],
   "source": [
    "# Build the scatter plots for latitude vs. cloudiness\n",
    "plt.scatter(lats, \n",
    "            cloudiness,\n",
    "            edgecolor=\"green\", linewidths=1, marker=\"*\", \n",
    "            alpha=0.8, label=\"Cities\")\n",
    "\n",
    "# Incorporate the other graph properties\n",
    "plt.title(\"City Latitude vs. Cloudiness (%s)\" % time.strftime(\"%x\"))\n",
    "plt.ylabel(\"Cloudiness (%)\")\n",
    "plt.xlabel(\"Latitude\")\n",
    "plt.grid(True)\n",
    "\n",
    "plt.savefig(\"Fig3.png\")\n",
    "plt.show()"
   ]
  },
  {
   "cell_type": "markdown",
   "metadata": {},
   "source": [
    "## Latitude vs. Wind Speed Plot"
   ]
  },
  {
   "cell_type": "code",
   "execution_count": 55,
   "metadata": {},
   "outputs": [
    {
     "data": {
      "image/png": "[encoded data removed]",
      "text/plain": [
       "<Figure size 432x288 with 1 Axes>"
      ]
     },
     "metadata": {
      "needs_background": "light"
     },
     "output_type": "display_data"
    }
   ],
   "source": [
    "# Build the scatter plots for latitude vs. wind speed\n",
    "plt.scatter(lats, \n",
    "            wind_speed,\n",
    "            edgecolor=\"black\", linewidths=1, marker=\"*\", \n",
    "            alpha=0.8, label=\"Cities\")\n",
    "\n",
    "# Incorporate the other graph properties\n",
    "plt.title(\"City Latitude vs. Wind Speed (%s)\" % time.strftime(\"%x\"),color=\"red\")\n",
    "plt.ylabel(\"Wind Speed (mph)\",color=\"red\")\n",
    "plt.xlabel(\"Latitude\", color=\"red\")\n",
    "plt.grid(True)\n",
    "\n",
    "plt.savefig(\"Fig4.png\")\n",
    "plt.show()"
   ]
  },
  {
   "cell_type": "markdown",
   "metadata": {},
   "source": [
    "## Linear Regression"
   ]
  },
  {
   "cell_type": "code",
   "execution_count": 60,
   "metadata": {},
   "outputs": [],
   "source": [
    "# Create a function to create Linear Regression plots\n",
    "def plot_linear_regression(x_values, y_values, title, text_coordinates):\n",
    "    \n",
    "    # Run regresson on southern hemisphere\n",
    "    (slope, intercept, rvalue, pvalue, stderr) = linregress(x_values, y_values)\n",
    "    regress_values = x_values * slope + intercept\n",
    "    line_eq = \"y = \" + str(round(slope,2)) + \"x + \" + str(round(intercept,2))\n",
    "\n",
    "    # Plot\n",
    "    plt.scatter(x_values,y_values)\n",
    "    plt.plot(x_values,regress_values,\"r-\")\n",
    "    plt.annotate(line_eq,text_coordinates,fontsize=15,color=\"red\")\n",
    "    plt.xlabel('Latitude')\n",
    "    plt.ylabel(title)\n",
    "    print(f\"The r-value is: {rvalue**2}\")\n",
    "    plt.show()"
   ]
  },
  {
   "cell_type": "code",
   "execution_count": 82,
   "metadata": {},
   "outputs": [],
   "source": [
    "# Create Northern and Southern Hemisphere DataFrames\n",
    "northern_df = city_df.loc[(city_df[\"Lat\"] >= 0)]\n",
    "southern_df = city_df.loc[(city_df[\"Lat\"] < 0)]"
   ]
  },
  {
   "cell_type": "markdown",
   "metadata": {},
   "source": [
    "####  Northern Hemisphere - Max Temp vs. Latitude Linear Regression"
   ]
  },
  {
   "cell_type": "code",
   "execution_count": 83,
   "metadata": {},
   "outputs": [
    {
     "name": "stdout",
     "output_type": "stream",
     "text": [
      "The r-value is: 0.7945648100211211\n"
     ]
    },
    {
     "data": {
      "image/png": "[encoded data removed]",
      "text/plain": [
       "<Figure size 432x288 with 1 Axes>"
      ]
     },
     "metadata": {
      "needs_background": "light"
     },
     "output_type": "display_data"
    }
   ],
   "source": [
    "# Linear regression on Northern Hemisphere\n",
    "x_values = northern_df[\"Lat\"]\n",
    "y_values = northern_df[\"Max Temp\"]\n",
    "plot_linear_regression(x_values, y_values, 'Max Temp',(6,30))"
   ]
  },
  {
   "cell_type": "markdown",
   "metadata": {},
   "source": [
    "####  Southern Hemisphere - Max Temp vs. Latitude Linear Regression"
   ]
  },
  {
   "cell_type": "code",
   "execution_count": 84,
   "metadata": {},
   "outputs": [
    {
     "name": "stdout",
     "output_type": "stream",
     "text": [
      "The r-value is: 0.3731983387365439\n"
     ]
    },
    {
     "data": {
      "image/png": "[encoded data removed]",
      "text/plain": [
       "<Figure size 432x288 with 1 Axes>"
      ]
     },
     "metadata": {
      "needs_background": "light"
     },
     "output_type": "display_data"
    }
   ],
   "source": [
    "# Linear regression on Southern Hemisphere\n",
    "x_values = southern_df[\"Lat\"]\n",
    "y_values = southern_df[\"Max Temp\"]\n",
    "plot_linear_regression(x_values, y_values, 'Max Temp', (-55, 90))"
   ]
  },
  {
   "cell_type": "markdown",
   "metadata": {},
   "source": [
    "####  Northern Hemisphere - Humidity (%) vs. Latitude Linear Regression"
   ]
  },
  {
   "cell_type": "code",
   "execution_count": 85,
   "metadata": {},
   "outputs": [
    {
     "name": "stdout",
     "output_type": "stream",
     "text": [
      "The r-value is: 0.10621928386276325\n"
     ]
    },
    {
     "data": {
      "image/png": "[encoded data removed]",
      "text/plain": [
       "<Figure size 432x288 with 1 Axes>"
      ]
     },
     "metadata": {
      "needs_background": "light"
     },
     "output_type": "display_data"
    }
   ],
   "source": [
    "# Northern Hemisphere\n",
    "x_values = northern_df[\"Lat\"]\n",
    "y_values = northern_df[\"Humidity\"]\n",
    "plot_linear_regression(x_values, y_values, 'Humidity',(40,10))"
   ]
  },
  {
   "cell_type": "markdown",
   "metadata": {},
   "source": [
    "####  Southern Hemisphere - Humidity (%) vs. Latitude Linear Regression"
   ]
  },
  {
   "cell_type": "code",
   "execution_count": 86,
   "metadata": {},
   "outputs": [
    {
     "name": "stdout",
     "output_type": "stream",
     "text": [
      "The r-value is: 0.033163746722158424\n"
     ]
    },
    {
     "data": {
      "image/png": "[encoded data removed]",
      "text/plain": [
       "<Figure size 432x288 with 1 Axes>"
      ]
     },
     "metadata": {
      "needs_background": "light"
     },
     "output_type": "display_data"
    }
   ],
   "source": [
    "# Southern Hemisphere\n",
    "x_values = southern_df[\"Lat\"]\n",
    "y_values = southern_df[\"Humidity\"]\n",
    "plot_linear_regression(x_values, y_values, 'Humidity', (-50, 20))"
   ]
  },
  {
   "cell_type": "markdown",
   "metadata": {},
   "source": [
    "####  Northern Hemisphere - Cloudiness (%) vs. Latitude Linear Regression"
   ]
  },
  {
   "cell_type": "code",
   "execution_count": 87,
   "metadata": {},
   "outputs": [
    {
     "name": "stdout",
     "output_type": "stream",
     "text": [
      "The r-value is: 0.12275373859347834\n"
     ]
    },
    {
     "data": {
      "image/png": "[encoded data removed]",
      "text/plain": [
       "<Figure size 432x288 with 1 Axes>"
      ]
     },
     "metadata": {
      "needs_background": "light"
     },
     "output_type": "display_data"
    }
   ],
   "source": [
    "# Northern Hemisphere\n",
    "x_values = northern_df[\"Lat\"]\n",
    "y_values = northern_df[\"Cloudiness\"]\n",
    "plot_linear_regression(x_values, y_values, 'Cloudiness', (40,10))"
   ]
  },
  {
   "cell_type": "markdown",
   "metadata": {},
   "source": [
    "####  Southern Hemisphere - Cloudiness (%) vs. Latitude Linear Regression"
   ]
  },
  {
   "cell_type": "code",
   "execution_count": 88,
   "metadata": {},
   "outputs": [
    {
     "name": "stdout",
     "output_type": "stream",
     "text": [
      "The r-value is: 0.010623618860753808\n"
     ]
    },
    {
     "data": {
      "image/png": "[encoded data removed]",
      "text/plain": [
       "<Figure size 432x288 with 1 Axes>"
      ]
     },
     "metadata": {
      "needs_background": "light"
     },
     "output_type": "display_data"
    }
   ],
   "source": [
    "# Southern Hemisphere\n",
    "x_values = southern_df[\"Lat\"]\n",
    "y_values = southern_df[\"Cloudiness\"]\n",
    "plot_linear_regression(x_values, y_values, 'Cloudiness', (-30,30))"
   ]
  },
  {
   "cell_type": "markdown",
   "metadata": {},
   "source": [
    "####  Northern Hemisphere - Wind Speed (mph) vs. Latitude Linear Regression"
   ]
  },
  {
   "cell_type": "code",
   "execution_count": 89,
   "metadata": {},
   "outputs": [
    {
     "name": "stdout",
     "output_type": "stream",
     "text": [
      "The r-value is: 0.00116121515250814\n"
     ]
    },
    {
     "data": {
      "image/png": "[encoded data removed]",
      "text/plain": [
       "<Figure size 432x288 with 1 Axes>"
      ]
     },
     "metadata": {
      "needs_background": "light"
     },
     "output_type": "display_data"
    }
   ],
   "source": [
    "# Northern Hemisphere\n",
    "x_values = northern_df[\"Lat\"]\n",
    "y_values = northern_df[\"Wind Speed\"]\n",
    "plot_linear_regression(x_values, y_values, 'Wind Speed', (40,25))"
   ]
  },
  {
   "cell_type": "markdown",
   "metadata": {},
   "source": [
    "####  Southern Hemisphere - Wind Speed (mph) vs. Latitude Linear Regression"
   ]
  },
  {
   "cell_type": "code",
   "execution_count": 90,
   "metadata": {},
   "outputs": [
    {
     "name": "stdout",
     "output_type": "stream",
     "text": [
      "The r-value is: 0.09287963942737638\n"
     ]
    },
    {
     "data": {
      "image/png": "[encoded data removed]",
      "text/plain": [
       "<Figure size 432x288 with 1 Axes>"
      ]
     },
     "metadata": {
      "needs_background": "light"
     },
     "output_type": "display_data"
    }
   ],
   "source": [
    "# Southern Hemisphere\n",
    "x_values = southern_df[\"Lat\"]\n",
    "y_values = southern_df[\"Wind Speed\"]\n",
    "plot_linear_regression(x_values, y_values, 'Wind Speed', (-50, 20))"
   ]
  },
  {
   "cell_type": "markdown",
   "metadata": {},
   "source": [
    "# Analysis"
   ]
  },
  {
   "cell_type": "code",
   "execution_count": null,
   "metadata": {},
   "outputs": [],
   "source": []
  }
 ],
 "metadata": {
  "anaconda-cloud": {},
  "kernel_info": {
   "name": "python3"
  },
  "kernelspec": {
   "display_name": "Python 3",
   "language": "python",
   "name": "python3"
  },
  "language_info": {
   "codemirror_mode": {
    "name": "ipython",
    "version": 3
   },
   "file_extension": ".py",
   "mimetype": "text/x-python",
   "name": "python",
   "nbconvert_exporter": "python",
   "pygments_lexer": "ipython3",
   "version": "3.8.3"
  },
  "latex_envs": {
   "LaTeX_envs_menu_present": true,
   "autoclose": false,
   "autocomplete": true,
   "bibliofile": "biblio.bib",
   "cite_by": "apalike",
   "current_citInitial": 1,
   "eqLabelWithNumbers": true,
   "eqNumInitial": 1,
   "hotkeys": {
    "equation": "Ctrl-E",
    "itemize": "Ctrl-I"
   },
   "labels_anchors": false,
   "latex_user_defs": false,
   "report_style_numbering": false,
   "user_envs_cfg": false
  },
  "nteract": {
   "version": "0.12.3"
  }
 },
 "nbformat": 4,
 "nbformat_minor": 2
}
